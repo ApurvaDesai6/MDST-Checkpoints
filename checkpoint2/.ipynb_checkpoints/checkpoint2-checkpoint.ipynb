{
 "cells": [
  {
   "cell_type": "markdown",
   "metadata": {},
   "source": [
    "<h1> Checkpoint:</h1>\n",
    "\n",
    "**Looking to see completetion and effort in completing the checkpoint. It's okay if it's not correct**\n",
    "\n",
    "Based off this dataset with school financial, enrollment, and achievement data, we are interested in what information is a useful indicator of student performance at the state level.\n",
    "\n",
    "This question is a bit too big for a checkpoint, however. Instead, we want you to look at smaller questions related to our overall goal. Here's the overview:\n",
    "\n",
    "1. Choose a specific test to focus on\n",
    ">Math/Reading for 4/8 grade\n",
    "* Pick or create features to use\n",
    ">Will all the features be useful in predicting test score? Are some more important than others? Should you standardize, bin, or scale the data?\n",
    "* Explore the data as it relates to that test\n",
    ">Create 2 well-labeled visualizations (graphs), each with a caption describing the graph and what it tells us about the data\n",
    "* Create training and testing data\n",
    ">Do you want to train on all the data? Only data from the last 10 years? Only Michigan data?\n",
    "* Train a ML model to predict outcome \n",
    ">Pick if you want to do a regression or classification task. For both cases, defined _exactly_ what you want to predict, and pick any model in sklearn to use (see sklearn <a href=\"https://scikit-learn.org/stable/modules/linear_model.html\">regressors</a> and <a href=\"https://scikit-learn.org/stable/auto_examples/classification/plot_classifier_comparison.html\">classifiers</a>).\n",
    "* Summarize your findings\n",
    ">Write a 1 paragraph summary of what you did and make a recommendation about if and how student performance can be predicted\n",
    "\n",
    "** Include comments throughout your code! Every cleanup and preprocessing task should be documented.\n",
    "\n",
    "\n",
    "Of course, if you're finding this assignment interesting (and we really hope you do!), you are welcome to do more than the requirements! For example, you may want to see if expenditure affects 4th graders more than 8th graders. Maybe you want to look into the extended version of this dataset and see how factors like sex and race are involved. You can include all your work in this notebook when you turn it in -- just always make sure you explain what you did and interpret your results. Good luck!"
   ]
  },
  {
   "cell_type": "markdown",
   "metadata": {},
   "source": [
    "<h2> Data Cleanup </h2>\n",
    "\n",
    "Import numpy, pandas, matplotlib, and seaborn\n",
    "\n",
    "(Feel free to import other libraries!)"
   ]
  },
  {
   "cell_type": "code",
   "execution_count": 1,
   "metadata": {},
   "outputs": [],
   "source": [
    "import pandas as pd\n",
    "import numpy as np\n",
    "import matplotlib.pyplot as plt\n",
    "import seaborn as sb"
   ]
  },
  {
   "cell_type": "markdown",
   "metadata": {},
   "source": [
    "Load in the \"states_edu.csv\" dataset and take a look at the head of the data"
   ]
  },
  {
   "cell_type": "code",
   "execution_count": 2,
   "metadata": {},
   "outputs": [],
   "source": [
    "df = pd.read_csv('../data/states_edu.csv')"
   ]
  },
  {
   "cell_type": "markdown",
   "metadata": {},
   "source": [
    "You should always familiarize yourself with what each column in the dataframe represents. \\ Read about the states_edu dataset here: https://www.kaggle.com/noriuk/us-education-datasets-unification-project"
   ]
  },
  {
   "cell_type": "markdown",
   "metadata": {},
   "source": [
    "Use this space to rename columns, deal with missing data, etc. _(optional)_"
   ]
  },
  {
   "cell_type": "code",
   "execution_count": 3,
   "metadata": {},
   "outputs": [],
   "source": [
    "df.dropna(subset=['AVG_MATH_8_SCORE'], inplace=True)"
   ]
  },
  {
   "cell_type": "markdown",
   "metadata": {},
   "source": [
    "<h2>Exploratory Data Analysis (EDA) </h2>"
   ]
  },
  {
   "cell_type": "markdown",
   "metadata": {},
   "source": [
    "Chosen Outcome Variable for Test: **<Reading for 8 grade>**   (Ex. Math for 8th grade)\n",
    "\n",
    "**(hit `Enter` to edit)**\n",
    "\n",
    "Outcome Score in the questions refers to the outcome variable you chose here."
   ]
  },
  {
   "cell_type": "markdown",
   "metadata": {},
   "source": [
    "How many different years of data are in our dataset? Use a pandas function."
   ]
  },
  {
   "cell_type": "code",
   "execution_count": 4,
   "metadata": {},
   "outputs": [
    {
     "name": "stdout",
     "output_type": "stream",
     "text": [
      "29\n"
     ]
    }
   ],
   "source": [
    "print(df[\"YEAR\"].max() - df[\"YEAR\"].min())"
   ]
  },
  {
   "cell_type": "markdown",
   "metadata": {},
   "source": [
    "Let's compare Michigan to Ohio. Which state has the higher average outcome score across all years?"
   ]
  },
  {
   "cell_type": "code",
   "execution_count": 5,
   "metadata": {},
   "outputs": [
    {
     "name": "stdout",
     "output_type": "stream",
     "text": [
      "Ohio has a higher average outcome score for 8th Grade Reading\n"
     ]
    },
    {
     "data": {
      "text/plain": [
       "STATE\n",
       "MICHIGAN    263.333333\n",
       "OHIO        267.666667\n",
       "Name: AVG_READING_8_SCORE, dtype: float64"
      ]
     },
     "execution_count": 5,
     "metadata": {},
     "output_type": "execute_result"
    }
   ],
   "source": [
    "print(\"Ohio has a higher average outcome score for 8th Grade Reading\")\n",
    "df[df.STATE.isin(['MICHIGAN','OHIO'])].groupby('STATE')['AVG_READING_8_SCORE'].mean()"
   ]
  },
  {
   "cell_type": "markdown",
   "metadata": {},
   "source": [
    "Find the average for your outcome score across all states in 2019"
   ]
  },
  {
   "cell_type": "code",
   "execution_count": 6,
   "metadata": {},
   "outputs": [
    {
     "data": {
      "text/plain": [
       "STATE\n",
       "ALABAMA                 255.222222\n",
       "ALASKA                  258.333333\n",
       "ARIZONA                 258.666667\n",
       "ARKANSAS                259.000000\n",
       "CALIFORNIA              255.888889\n",
       "COLORADO                268.000000\n",
       "CONNECTICUT             270.555556\n",
       "DELAWARE                264.333333\n",
       "DISTRICT_OF_COLUMBIA    243.888889\n",
       "DODEA                   274.888889\n",
       "FLORIDA                 262.000000\n",
       "GEORGIA                 261.222222\n",
       "HAWAII                  255.444444\n",
       "IDAHO                   266.777778\n",
       "ILLINOIS                265.555556\n",
       "INDIANA                 266.000000\n",
       "IOWA                    266.555556\n",
       "KANSAS                  266.444444\n",
       "KENTUCKY                266.000000\n",
       "LOUISIANA               254.777778\n",
       "MAINE                   268.555556\n",
       "MARYLAND                266.555556\n",
       "MASSACHUSETTS           274.555556\n",
       "MICHIGAN                263.333333\n",
       "MINNESOTA               268.666667\n",
       "MISSISSIPPI             253.111111\n",
       "MISSOURI                265.777778\n",
       "MONTANA                 269.666667\n",
       "NATIONAL                264.000000\n",
       "NEBRASKA                267.333333\n",
       "NEVADA                  256.444444\n",
       "NEW_HAMPSHIRE           271.777778\n",
       "NEW_JERSEY              271.888889\n",
       "NEW_MEXICO              253.444444\n",
       "NEW_YORK                264.333333\n",
       "NORTH_CAROLINA          261.555556\n",
       "NORTH_DAKOTA            267.666667\n",
       "OHIO                    267.666667\n",
       "OKLAHOMA                260.555556\n",
       "OREGON                  265.333333\n",
       "PENNSYLVANIA            268.111111\n",
       "RHODE_ISLAND            262.777778\n",
       "SOUTH_CAROLINA          258.777778\n",
       "SOUTH_DAKOTA            268.111111\n",
       "TENNESSEE               261.111111\n",
       "TEXAS                   260.000000\n",
       "UTAH                    266.222222\n",
       "VERMONT                 272.000000\n",
       "VIRGINIA                266.777778\n",
       "WASHINGTON              267.333333\n",
       "WEST_VIRGINIA           257.000000\n",
       "WISCONSIN               267.000000\n",
       "WYOMING                 268.111111\n",
       "Name: AVG_READING_8_SCORE, dtype: float64"
      ]
     },
     "execution_count": 6,
     "metadata": {},
     "output_type": "execute_result"
    }
   ],
   "source": [
    "df[df.STATE.isin(['ALABAMA',\n",
    " 'ALASKA',\n",
    " 'ARIZONA',\n",
    " 'ARKANSAS',\n",
    " 'CALIFORNIA',\n",
    " 'COLORADO',\n",
    " 'CONNECTICUT',\n",
    " 'DELAWARE',\n",
    " 'DISTRICT_OF_COLUMBIA',\n",
    " 'FLORIDA',\n",
    " 'GEORGIA',\n",
    " 'HAWAII',\n",
    " 'IDAHO',\n",
    " 'ILLINOIS',\n",
    " 'INDIANA',\n",
    " 'IOWA',\n",
    " 'KANSAS',\n",
    " 'KENTUCKY',\n",
    " 'LOUISIANA',\n",
    " 'MAINE',\n",
    " 'MARYLAND',\n",
    " 'MASSACHUSETTS',\n",
    " 'MICHIGAN',\n",
    " 'MINNESOTA',\n",
    " 'MISSISSIPPI',\n",
    " 'MISSOURI',\n",
    " 'MONTANA',\n",
    " 'NEBRASKA',\n",
    " 'NEVADA',\n",
    " 'NEW_HAMPSHIRE',\n",
    " 'NEW_JERSEY',\n",
    " 'NEW_MEXICO',\n",
    " 'NEW_YORK',\n",
    " 'NORTH_CAROLINA',\n",
    " 'NORTH_DAKOTA',\n",
    " 'OHIO',\n",
    " 'OKLAHOMA',\n",
    " 'OREGON',\n",
    " 'PENNSYLVANIA',\n",
    " 'RHODE_ISLAND',\n",
    " 'SOUTH_CAROLINA',\n",
    " 'SOUTH_DAKOTA',\n",
    " 'TENNESSEE',\n",
    " 'TEXAS',\n",
    " 'UTAH',\n",
    " 'VERMONT',\n",
    " 'VIRGINIA',\n",
    " 'WASHINGTON',\n",
    " 'WEST_VIRGINIA',\n",
    " 'WISCONSIN',\n",
    " 'WYOMING',\n",
    " 'DODEA',\n",
    " 'NATIONAL'])].groupby('STATE')['AVG_READING_8_SCORE'].mean()"
   ]
  },
  {
   "cell_type": "markdown",
   "metadata": {},
   "source": [
    "Find the maximum outcome score for every state. Hint: there's a function that allows you to do this easily"
   ]
  },
  {
   "cell_type": "code",
   "execution_count": 7,
   "metadata": {},
   "outputs": [
    {
     "data": {
      "text/plain": [
       "STATE\n",
       "ALABAMA                 259.0\n",
       "ALASKA                  261.0\n",
       "ARIZONA                 263.0\n",
       "ARKANSAS                262.0\n",
       "CALIFORNIA              263.0\n",
       "COLORADO                271.0\n",
       "CONNECTICUT             275.0\n",
       "DELAWARE                266.0\n",
       "DISTRICT_OF_COLUMBIA    250.0\n",
       "DODEA                   280.0\n",
       "FLORIDA                 267.0\n",
       "GEORGIA                 266.0\n",
       "HAWAII                  261.0\n",
       "IDAHO                   270.0\n",
       "ILLINOIS                267.0\n",
       "INDIANA                 272.0\n",
       "IOWA                    269.0\n",
       "KANSAS                  267.0\n",
       "KENTUCKY                270.0\n",
       "LOUISIANA               257.0\n",
       "MAINE                   270.0\n",
       "MARYLAND                274.0\n",
       "MASSACHUSETTS           278.0\n",
       "MICHIGAN                266.0\n",
       "MINNESOTA               271.0\n",
       "MISSISSIPPI             256.0\n",
       "MISSOURI                267.0\n",
       "MONTANA                 273.0\n",
       "NATIONAL                268.0\n",
       "NEBRASKA                269.0\n",
       "NEVADA                  262.0\n",
       "NEW_HAMPSHIRE           275.0\n",
       "NEW_JERSEY              276.0\n",
       "NEW_MEXICO              256.0\n",
       "NEW_YORK                266.0\n",
       "NORTH_CAROLINA          265.0\n",
       "NORTH_DAKOTA            270.0\n",
       "OHIO                    269.0\n",
       "OKLAHOMA                263.0\n",
       "OREGON                  268.0\n",
       "PENNSYLVANIA            272.0\n",
       "RHODE_ISLAND            267.0\n",
       "SOUTH_CAROLINA          261.0\n",
       "SOUTH_DAKOTA            270.0\n",
       "TENNESSEE               265.0\n",
       "TEXAS                   264.0\n",
       "UTAH                    270.0\n",
       "VERMONT                 274.0\n",
       "VIRGINIA                268.0\n",
       "WASHINGTON              272.0\n",
       "WEST_VIRGINIA           260.0\n",
       "WISCONSIN               270.0\n",
       "WYOMING                 271.0\n",
       "Name: AVG_READING_8_SCORE, dtype: float64"
      ]
     },
     "execution_count": 7,
     "metadata": {},
     "output_type": "execute_result"
    }
   ],
   "source": [
    "df[df.STATE.isin(['ALABAMA',\n",
    " 'ALASKA',\n",
    " 'ARIZONA',\n",
    " 'ARKANSAS',\n",
    " 'CALIFORNIA',\n",
    " 'COLORADO',\n",
    " 'CONNECTICUT',\n",
    " 'DELAWARE',\n",
    " 'DISTRICT_OF_COLUMBIA',\n",
    " 'FLORIDA',\n",
    " 'GEORGIA',\n",
    " 'HAWAII',\n",
    " 'IDAHO',\n",
    " 'ILLINOIS',\n",
    " 'INDIANA',\n",
    " 'IOWA',\n",
    " 'KANSAS',\n",
    " 'KENTUCKY',\n",
    " 'LOUISIANA',\n",
    " 'MAINE',\n",
    " 'MARYLAND',\n",
    " 'MASSACHUSETTS',\n",
    " 'MICHIGAN',\n",
    " 'MINNESOTA',\n",
    " 'MISSISSIPPI',\n",
    " 'MISSOURI',\n",
    " 'MONTANA',\n",
    " 'NEBRASKA',\n",
    " 'NEVADA',\n",
    " 'NEW_HAMPSHIRE',\n",
    " 'NEW_JERSEY',\n",
    " 'NEW_MEXICO',\n",
    " 'NEW_YORK',\n",
    " 'NORTH_CAROLINA',\n",
    " 'NORTH_DAKOTA',\n",
    " 'OHIO',\n",
    " 'OKLAHOMA',\n",
    " 'OREGON',\n",
    " 'PENNSYLVANIA',\n",
    " 'RHODE_ISLAND',\n",
    " 'SOUTH_CAROLINA',\n",
    " 'SOUTH_DAKOTA',\n",
    " 'TENNESSEE',\n",
    " 'TEXAS',\n",
    " 'UTAH',\n",
    " 'VERMONT',\n",
    " 'VIRGINIA',\n",
    " 'WASHINGTON',\n",
    " 'WEST_VIRGINIA',\n",
    " 'WISCONSIN',\n",
    " 'WYOMING',\n",
    " 'DODEA',\n",
    " 'NATIONAL'])].groupby('STATE')['AVG_READING_8_SCORE'].max()"
   ]
  },
  {
   "cell_type": "markdown",
   "metadata": {},
   "source": [
    "<h2> Feature Selection </h2>\n",
    "\n",
    "After exploring the data, you now have to choose features that you would use to predict the performance of the students on a chosen test (chosen outcome variable). By the way, you can also create your own features. For example, perhaps you figured that maybe a state's expenditure per student may affect their overall academic performance so you create a expenditure_per_student feature.\n",
    "\n",
    "Use this space to modify or create features"
   ]
  },
  {
   "cell_type": "code",
   "execution_count": 8,
   "metadata": {},
   "outputs": [
    {
     "data": {
      "text/html": [
       "<div>\n",
       "<style scoped>\n",
       "    .dataframe tbody tr th:only-of-type {\n",
       "        vertical-align: middle;\n",
       "    }\n",
       "\n",
       "    .dataframe tbody tr th {\n",
       "        vertical-align: top;\n",
       "    }\n",
       "\n",
       "    .dataframe thead th {\n",
       "        text-align: right;\n",
       "    }\n",
       "</style>\n",
       "<table border=\"1\" class=\"dataframe\">\n",
       "  <thead>\n",
       "    <tr style=\"text-align: right;\">\n",
       "      <th></th>\n",
       "      <th>STATE_REVENUE</th>\n",
       "      <th>LOCAL_REVENUE</th>\n",
       "      <th>GRADES_8_G</th>\n",
       "      <th>INSTRUCTION_EXPENDITURE</th>\n",
       "      <th>YEAR</th>\n",
       "    </tr>\n",
       "  </thead>\n",
       "  <tbody>\n",
       "    <tr>\n",
       "      <th>0</th>\n",
       "      <td>1659028.0</td>\n",
       "      <td>715680.0</td>\n",
       "      <td>58025.0</td>\n",
       "      <td>1481703.0</td>\n",
       "      <td>1992</td>\n",
       "    </tr>\n",
       "    <tr>\n",
       "      <th>2</th>\n",
       "      <td>1369815.0</td>\n",
       "      <td>1590376.0</td>\n",
       "      <td>49081.0</td>\n",
       "      <td>1435908.0</td>\n",
       "      <td>1992</td>\n",
       "    </tr>\n",
       "    <tr>\n",
       "      <th>3</th>\n",
       "      <td>958785.0</td>\n",
       "      <td>574603.0</td>\n",
       "      <td>36011.0</td>\n",
       "      <td>964323.0</td>\n",
       "      <td>1992</td>\n",
       "    </tr>\n",
       "    <tr>\n",
       "      <th>4</th>\n",
       "      <td>16546514.0</td>\n",
       "      <td>7641041.0</td>\n",
       "      <td>363296.0</td>\n",
       "      <td>14358922.0</td>\n",
       "      <td>1992</td>\n",
       "    </tr>\n",
       "    <tr>\n",
       "      <th>5</th>\n",
       "      <td>1307986.0</td>\n",
       "      <td>1713934.0</td>\n",
       "      <td>45025.0</td>\n",
       "      <td>1642466.0</td>\n",
       "      <td>1992</td>\n",
       "    </tr>\n",
       "    <tr>\n",
       "      <th>...</th>\n",
       "      <td>...</td>\n",
       "      <td>...</td>\n",
       "      <td>...</td>\n",
       "      <td>...</td>\n",
       "      <td>...</td>\n",
       "    </tr>\n",
       "    <tr>\n",
       "      <th>1219</th>\n",
       "      <td>6240349.0</td>\n",
       "      <td>8604970.0</td>\n",
       "      <td>95221.0</td>\n",
       "      <td>8755896.0</td>\n",
       "      <td>2015</td>\n",
       "    </tr>\n",
       "    <tr>\n",
       "      <th>1220</th>\n",
       "      <td>8293812.0</td>\n",
       "      <td>4379208.0</td>\n",
       "      <td>79483.0</td>\n",
       "      <td>6508964.0</td>\n",
       "      <td>2015</td>\n",
       "    </tr>\n",
       "    <tr>\n",
       "      <th>1221</th>\n",
       "      <td>1979466.0</td>\n",
       "      <td>1135976.0</td>\n",
       "      <td>20426.0</td>\n",
       "      <td>1819903.0</td>\n",
       "      <td>2015</td>\n",
       "    </tr>\n",
       "    <tr>\n",
       "      <th>1222</th>\n",
       "      <td>5869265.0</td>\n",
       "      <td>4953726.0</td>\n",
       "      <td>61084.0</td>\n",
       "      <td>5723474.0</td>\n",
       "      <td>2015</td>\n",
       "    </tr>\n",
       "    <tr>\n",
       "      <th>1223</th>\n",
       "      <td>1116917.0</td>\n",
       "      <td>725667.0</td>\n",
       "      <td>6902.0</td>\n",
       "      <td>895910.0</td>\n",
       "      <td>2015</td>\n",
       "    </tr>\n",
       "  </tbody>\n",
       "</table>\n",
       "<p>439 rows × 5 columns</p>\n",
       "</div>"
      ],
      "text/plain": [
       "      STATE_REVENUE  LOCAL_REVENUE  GRADES_8_G  INSTRUCTION_EXPENDITURE  YEAR\n",
       "0         1659028.0       715680.0     58025.0                1481703.0  1992\n",
       "2         1369815.0      1590376.0     49081.0                1435908.0  1992\n",
       "3          958785.0       574603.0     36011.0                 964323.0  1992\n",
       "4        16546514.0      7641041.0    363296.0               14358922.0  1992\n",
       "5         1307986.0      1713934.0     45025.0                1642466.0  1992\n",
       "...             ...            ...         ...                      ...   ...\n",
       "1219      6240349.0      8604970.0     95221.0                8755896.0  2015\n",
       "1220      8293812.0      4379208.0     79483.0                6508964.0  2015\n",
       "1221      1979466.0      1135976.0     20426.0                1819903.0  2015\n",
       "1222      5869265.0      4953726.0     61084.0                5723474.0  2015\n",
       "1223      1116917.0       725667.0      6902.0                 895910.0  2015\n",
       "\n",
       "[439 rows x 5 columns]"
      ]
     },
     "execution_count": 8,
     "metadata": {},
     "output_type": "execute_result"
    }
   ],
   "source": [
    "df[['STATE_REVENUE','LOCAL_REVENUE','GRADES_8_G','INSTRUCTION_EXPENDITURE','YEAR']].dropna()"
   ]
  },
  {
   "cell_type": "markdown",
   "metadata": {},
   "source": [
    "Final feature list: **<8th Grade Enrollment, Instruction Expenditure, Year, State Revenue>**"
   ]
  },
  {
   "cell_type": "markdown",
   "metadata": {},
   "source": [
    "Feature selection justification: **<I believe these will be effective prediction filters as variations in class size, money spent on the school itself, and the wealth of the state could directly influence outcomes on standardized tests\\>**"
   ]
  },
  {
   "cell_type": "markdown",
   "metadata": {},
   "source": [
    "<h2>Visualization</h2>\n",
    "\n",
    "Use any graph you wish to see the relationship of your chosen outcome variable with any features you chose\n",
    "\n",
    "**Visualization 1**"
   ]
  },
  {
   "cell_type": "code",
   "execution_count": 9,
   "metadata": {
    "scrolled": true
   },
   "outputs": [
    {
     "data": {
      "text/plain": [
       "Text(0, 0.5, '8th grade math score')"
      ]
     },
     "execution_count": 9,
     "metadata": {},
     "output_type": "execute_result"
    },
    {
     "data": {
      "image/png": "[encoded data removed]",
      "text/plain": [
       "<Figure size 432x288 with 1 Axes>"
      ]
     },
     "metadata": {
      "needs_background": "light"
     },
     "output_type": "display_data"
    }
   ],
   "source": [
    "df.plot.scatter(x='INSTRUCTION_EXPENDITURE',y='AVG_MATH_8_SCORE')\n",
    "plt.xlabel('instruction expenditure')\n",
    "plt.ylabel('8th grade math score')"
   ]
  },
  {
   "cell_type": "markdown",
   "metadata": {},
   "source": [
    "**The graph above is meant to show the correlation between both 8th grade reading scores with a rise in instruction expenditure within schools**"
   ]
  },
  {
   "cell_type": "markdown",
   "metadata": {},
   "source": [
    "**Visualization 2**"
   ]
  },
  {
   "cell_type": "code",
   "execution_count": 10,
   "metadata": {},
   "outputs": [
    {
     "data": {
      "text/plain": [
       "Text(0, 0.5, 'Local Revenue')"
      ]
     },
     "execution_count": 10,
     "metadata": {},
     "output_type": "execute_result"
    },
    {
     "data": {
      "image/png": "[encoded data removed]",
      "text/plain": [
       "<Figure size 432x288 with 1 Axes>"
      ]
     },
     "metadata": {
      "needs_background": "light"
     },
     "output_type": "display_data"
    }
   ],
   "source": [
    "df.groupby('AVG_MATH_8_SCORE').LOCAL_REVENUE.mean().plot()\n",
    "plt.ylabel('Local Revenue')"
   ]
  },
  {
   "cell_type": "markdown",
   "metadata": {},
   "source": [
    "**Comparison between local revenue and 8th grade reading scores**"
   ]
  },
  {
   "cell_type": "markdown",
   "metadata": {},
   "source": [
    "<h2> Data Creation </h2>\n",
    "\n",
    "_Use this space to create train/test data_"
   ]
  },
  {
   "cell_type": "code",
   "execution_count": 11,
   "metadata": {},
   "outputs": [],
   "source": [
    "from sklearn.model_selection import train_test_split"
   ]
  },
  {
   "cell_type": "code",
   "execution_count": 12,
   "metadata": {},
   "outputs": [],
   "source": [
    "X = df[['STATE_REVENUE','LOCAL_REVENUE','GRADES_8_G','INSTRUCTION_EXPENDITURE','YEAR']].dropna()\n",
    "y = df.loc[X.index]['AVG_MATH_8_SCORE']"
   ]
  },
  {
   "cell_type": "code",
   "execution_count": 13,
   "metadata": {},
   "outputs": [],
   "source": [
    "X_train, X_test, y_train, y_test = train_test_split(\n",
    "     X, y, test_size=.03, random_state=0)"
   ]
  },
  {
   "cell_type": "markdown",
   "metadata": {},
   "source": [
    "<h2> Prediction </h2>"
   ]
  },
  {
   "cell_type": "markdown",
   "metadata": {},
   "source": [
    "ML Models Resource: https://medium.com/@vijaya.beeravalli/comparison-of-machine-learning-classification-models-for-credit-card-default-data-c3cf805c9a5a"
   ]
  },
  {
   "cell_type": "markdown",
   "metadata": {},
   "source": [
    "Chosen ML task: **<REGRESSION/CLASSIFICATION>**"
   ]
  },
  {
   "cell_type": "code",
   "execution_count": 14,
   "metadata": {},
   "outputs": [],
   "source": [
    "# import your sklearn class here\n",
    "from sklearn.linear_model import LinearRegression"
   ]
  },
  {
   "cell_type": "code",
   "execution_count": 15,
   "metadata": {},
   "outputs": [],
   "source": [
    "# create your model here\n",
    "model = LinearRegression()"
   ]
  },
  {
   "cell_type": "code",
   "execution_count": 16,
   "metadata": {},
   "outputs": [
    {
     "data": {
      "text/plain": [
       "LinearRegression()"
      ]
     },
     "execution_count": 16,
     "metadata": {},
     "output_type": "execute_result"
    }
   ],
   "source": [
    "model.fit(X_train, y_train)"
   ]
  },
  {
   "cell_type": "code",
   "execution_count": 19,
   "metadata": {},
   "outputs": [],
   "source": [
    "y_pred = model.predict(X_test)"
   ]
  },
  {
   "cell_type": "code",
   "execution_count": 20,
   "metadata": {},
   "outputs": [
    {
     "data": {
      "text/plain": [
       "Text(0, 0.5, 'Math 8 Score')"
      ]
     },
     "execution_count": 20,
     "metadata": {},
     "output_type": "execute_result"
    },
    {
     "data": {
      "image/png": "[encoded data removed]",
      "text/plain": [
       "<Figure size 864x432 with 1 Axes>"
      ]
     },
     "metadata": {
      "needs_background": "light"
     },
     "output_type": "display_data"
    }
   ],
   "source": [
    "# FOR REGRESSION ONLY: (pick a single column to visualize results)\n",
    "\n",
    "# Results from this graph _should not_ be used as a part of your results -- it is just here to help with intuition. \n",
    "# Instead, look at the error values and individual intercepts.\n",
    "\n",
    "\n",
    "col_name = 'STATE_REVENUE'\n",
    "col_index = X_train.columns.get_loc(col_name)\n",
    "\n",
    "f = plt.figure(figsize=(12,6))\n",
    "plt.scatter(X_train[col_name], y_train, color = \"red\")\n",
    "plt.scatter(X_train[col_name], model.predict(X_train), color = \"green\")\n",
    "plt.scatter(X_test[col_name], model.predict(X_test), color = \"blue\")\n",
    "\n",
    "new_x = np.linspace(X_train[col_name].min(),X_train[col_name].max(),200)\n",
    "intercept = model.predict([X_train.sort_values(col_name).iloc[0]]) - X_train[col_name].min()*model.coef_[col_index]\n",
    "plt.plot(new_x, intercept+new_x*model.coef_[col_index])\n",
    "\n",
    "plt.legend(['controlled model','true training','predicted training','predicted testing'])\n",
    "plt.xlabel(col_name)\n",
    "plt.ylabel('Math 8 Score')"
   ]
  },
  {
   "cell_type": "markdown",
   "metadata": {},
   "source": [
    "<h2> Summary </h2>"
   ]
  },
  {
   "cell_type": "markdown",
   "metadata": {},
   "source": [
    "**From the EDA I conducted earlier on and the feature selection, I was able to see a direct correlation in 8th grade reading scores over time, with more indirect correlations being between rising scores with state/local funding, as well as increased institutional expenditure. In this checkpoint I learned how to clean and orginize data as well as begin data visualization through EDA. In the final ML model I generated, I compared state revenue to 8th grade math scores, and the results of the model appeared to be somewhat innacurate from the controlled model's predictions, however is still similar to the predicted and true training data displayed on the graph.**"
   ]
  }
 ],
 "metadata": {
  "kernelspec": {
   "display_name": "Python 3 (ipykernel)",
   "language": "python",
   "name": "python3"
  },
  "language_info": {
   "codemirror_mode": {
    "name": "ipython",
    "version": 3
   },
   "file_extension": ".py",
   "mimetype": "text/x-python",
   "name": "python",
   "nbconvert_exporter": "python",
   "pygments_lexer": "ipython3",
   "version": "3.9.7"
  }
 },
 "nbformat": 4,
 "nbformat_minor": 4
}
